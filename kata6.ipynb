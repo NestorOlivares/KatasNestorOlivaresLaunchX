{
 "cells": [
  {
   "cell_type": "code",
   "execution_count": 5,
   "metadata": {},
   "outputs": [
    {
     "name": "stdout",
     "output_type": "stream",
     "text": [
      "la galaxia esta formada por un todal de 8 planetas\n",
      "el planeta pluton fue agregado recientemente tras una investigacion de diferentes planteas\n"
     ]
    }
   ],
   "source": [
    "planetas = ['mercurio', 'venus', 'tierra', 'marte', 'jupiter','saturno','urano','neptuno']\n",
    "galaxia = len(planetas)\n",
    "print('la galaxia esta formada por un todal de', galaxia,'planetas')\n",
    "planetas.append('pluton')\n",
    "print('el planeta',planetas[-1],'fue agregado recientemente tras una investigacion de diferentes planteas')\n",
    "\n"
   ]
  },
  {
   "cell_type": "code",
   "execution_count": 11,
   "metadata": {},
   "outputs": [
    {
     "name": "stdout",
     "output_type": "stream",
     "text": [
      "4\n",
      "los planetas mas cercas del sol del planeta indicado son:jupiter\n",
      "['mercurio', 'venus', 'tierra', 'marte']\n",
      "los planetas mas lejos del sol del planeta indicado  son:jupiter\n",
      "['saturno', 'urano', 'neptuno']\n"
     ]
    }
   ],
   "source": [
    "planetas = ['mercurio', 'venus', 'tierra', 'marte', 'jupiter','saturno','urano','neptuno']\n",
    "valor = input('ingresa el nombre del planeta que buscas')\n",
    "planeta = planetas.index(valor)\n",
    "print(planeta)\n",
    "print('los planetas mas cercas del sol del planeta indicado son:'+ valor)\n",
    "print(planetas[0:planeta])\n",
    "print('los planetas mas lejos del sol del planeta indicado  son:'+ valor)\n",
    "print(planetas[planeta+1:])\n",
    "\n"
   ]
  }
 ],
 "metadata": {
  "interpreter": {
   "hash": "70d8603dfbaebc9cdc6a62d1590dba04dec18b8cb28b2cb8f4e5aad9bda28700"
  },
  "kernelspec": {
   "display_name": "Python 3.10.2 64-bit",
   "language": "python",
   "name": "python3"
  },
  "language_info": {
   "codemirror_mode": {
    "name": "ipython",
    "version": 3
   },
   "file_extension": ".py",
   "mimetype": "text/x-python",
   "name": "python",
   "nbconvert_exporter": "python",
   "pygments_lexer": "ipython3",
   "version": "3.10.2"
  },
  "orig_nbformat": 4
 },
 "nbformat": 4,
 "nbformat_minor": 2
}
