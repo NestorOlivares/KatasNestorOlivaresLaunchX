{
 "cells": [
  {
   "cell_type": "code",
   "execution_count": 11,
   "metadata": {},
   "outputs": [
    {
     "name": "stdout",
     "output_type": "stream",
     "text": [
      "la distancia entre los 2 planetas es:  390577533.93 millas ó 628949330 Km\n"
     ]
    }
   ],
   "source": [
    "dis_tierra = 149597870\n",
    "dis_jupiter = 778547200\n",
    "dis = dis_jupiter - dis_tierra\n",
    "distancia = (dis_jupiter - dis_tierra)* 0.621\n",
    "print('la distancia entre los 2 planetas es: ',distancia,'millas','ó', dis, 'Km')"
   ]
  },
  {
   "cell_type": "code",
   "execution_count": 15,
   "metadata": {},
   "outputs": [
    {
     "name": "stdout",
     "output_type": "stream",
     "text": [
      "la distancia entre planetas es:  20 kms ó 12.42 Millas\n"
     ]
    }
   ],
   "source": [
    "tierra = int(input(\"¿Cuál es la distancia al sol del planeta tierra?: \"))\n",
    "Marte = int(input(\"¿Cuál es la distancia al sol del planeta Marte?: \"))\n",
    "print ('la distancia entre planetas es: ',(abs(tierra-Marte)),'kms ó',(abs((tierra-Marte)*.621)),'Millas')"
   ]
  }
 ],
 "metadata": {
  "interpreter": {
   "hash": "70d8603dfbaebc9cdc6a62d1590dba04dec18b8cb28b2cb8f4e5aad9bda28700"
  },
  "kernelspec": {
   "display_name": "Python 3.10.2 64-bit",
   "language": "python",
   "name": "python3"
  },
  "language_info": {
   "codemirror_mode": {
    "name": "ipython",
    "version": 3
   },
   "file_extension": ".py",
   "mimetype": "text/x-python",
   "name": "python",
   "nbconvert_exporter": "python",
   "pygments_lexer": "ipython3",
   "version": "3.10.2"
  },
  "orig_nbformat": 4
 },
 "nbformat": 4,
 "nbformat_minor": 2
}
