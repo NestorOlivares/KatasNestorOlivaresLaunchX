{
 "cells": [
  {
   "cell_type": "code",
   "execution_count": 5,
   "metadata": {},
   "outputs": [
    {
     "name": "stdout",
     "output_type": "stream",
     "text": [
      "today´s date is: 2022-02-11\n"
     ]
    }
   ],
   "source": [
    "from datetime import date\n",
    "\n",
    "date.today()\n",
    "print(\"today´s date is:\", date.today())"
   ]
  },
  {
   "cell_type": "markdown",
   "metadata": {},
   "source": [
    "#Solucion indicada en kata\n",
    "\n",
    "from datetime import date\n",
    "\n",
    "print(\"Today's date is: \" + str(date.today()))\n",
    "-- al no agregar '+' no combine 2 tipos de operadores por lo que solo se muestra el dato de operador date sin problemas"
   ]
  },
  {
   "cell_type": "code",
   "execution_count": 3,
   "metadata": {},
   "outputs": [
    {
     "name": "stdout",
     "output_type": "stream",
     "text": [
      "11persec is: +35.877159999999996 lighyears\n"
     ]
    }
   ],
   "source": [
    "persec = 11\n",
    "lightyears = 0\n",
    "lightyears = 3.26156 * persec\n",
    "print(str(persec)+ \"persec is: +\"+ str(lightyears)+ \" lighyears\")"
   ]
  },
  {
   "cell_type": "markdown",
   "metadata": {},
   "source": [
    "#solucion indicada en kata\n",
    "\n",
    "parsec = 11\n",
    "lightyears = 3.26156 * parsec\n",
    "\n",
    "print(str(parsec) + \" parsec, is \" + str(lightyears) + \" lightyears\")\n",
    "----- se agrego una linea de codigo mas para mostar el alta de variables\n"
   ]
  }
 ],
 "metadata": {
  "interpreter": {
   "hash": "70d8603dfbaebc9cdc6a62d1590dba04dec18b8cb28b2cb8f4e5aad9bda28700"
  },
  "kernelspec": {
   "display_name": "Python 3.10.2 64-bit",
   "language": "python",
   "name": "python3"
  },
  "language_info": {
   "codemirror_mode": {
    "name": "ipython",
    "version": 3
   },
   "file_extension": ".py",
   "mimetype": "text/x-python",
   "name": "python",
   "nbconvert_exporter": "python",
   "pygments_lexer": "ipython3",
   "version": "3.10.2"
  },
  "orig_nbformat": 4
 },
 "nbformat": 4,
 "nbformat_minor": 2
}
