{
 "cells": [
  {
   "cell_type": "code",
   "execution_count": 2,
   "metadata": {},
   "outputs": [
    {
     "name": "stdout",
     "output_type": "stream",
     "text": [
      "mercurio\n",
      "venus\n",
      "tierra\n",
      "marte\n",
      "jupiter\n"
     ]
    }
   ],
   "source": [
    "planetas = ''\n",
    "lista_planetas = []\n",
    "\n",
    "while planetas.lower() != 'n':\n",
    "    if planetas:\n",
    "        lista_planetas.append(planetas)\n",
    "    planetas= input(\"ingresa un nuevo planeta o ingres 'n' para terminar\")\n",
    "\n",
    "for x in lista_planetas:\n",
    "    print(x)"
   ]
  }
 ],
 "metadata": {
  "interpreter": {
   "hash": "70d8603dfbaebc9cdc6a62d1590dba04dec18b8cb28b2cb8f4e5aad9bda28700"
  },
  "kernelspec": {
   "display_name": "Python 3.10.2 64-bit",
   "language": "python",
   "name": "python3"
  },
  "language_info": {
   "codemirror_mode": {
    "name": "ipython",
    "version": 3
   },
   "file_extension": ".py",
   "mimetype": "text/x-python",
   "name": "python",
   "nbconvert_exporter": "python",
   "pygments_lexer": "ipython3",
   "version": "3.10.2"
  },
  "orig_nbformat": 4
 },
 "nbformat": 4,
 "nbformat_minor": 2
}
