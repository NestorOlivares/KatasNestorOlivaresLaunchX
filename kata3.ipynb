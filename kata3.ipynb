{
 "cells": [
  {
   "cell_type": "markdown",
   "metadata": {},
   "source": [
    "Añadir el código necesario para crear una variable que guarde la velocidad del asteroide.\n",
    "Escribe una expresión de prueba para calcular si necesita una advertencia.\n",
    "Agregue las instrucciones que se ejecutarán si la expresión de prueba es true o false.\n",
    "\n",
    "Si un asteroide entra en la atmósfera de la Tierra a una velocidad mayor o igual a 20 km/s, a veces produce un rayo de luz que se puede ver desde la Tierra. Escribe la lógica condicional que usa declaraciones if, else, y elif para alertar a las personas de todo el mundo que deben buscar un asteroide en el cielo. ¡Hay uno que se dirige a la tierra ahora a una velocidad de 19 km/s!"
   ]
  },
  {
   "cell_type": "code",
   "execution_count": 14,
   "metadata": {},
   "outputs": [
    {
     "name": "stdout",
     "output_type": "stream",
     "text": [
      "la velocidad del asteroide es: 15 km/h\n",
      "la velocidad no es la suficiente para buscar un rayo de luz en el cielo :(\n"
     ]
    }
   ],
   "source": [
    "asteroide = int(input(\"que velocidad tiene el asteroride:\"))\n",
    "print(\"la velocidad del asteroide es:\",asteroide,\"km/h\")\n",
    "if asteroide >= 20:\n",
    "    print('se produjo una estela de luz en el cielo... SAL A BUSCARLA!!!')\n",
    "else:\n",
    "    print('la velocidad no es la suficiente para buscar un rayo de luz en el cielo :(')\n",
    "\n"
   ]
  },
  {
   "cell_type": "markdown",
   "metadata": {},
   "source": [
    " Agrega el código para crear una variable para un asteroide que viaja a 19 km/s\n",
    " Escribe varias expresiones de prueba para determinar si puedes ver el rayo de luz desde la tierra\n",
    " Agrega las instrucciones que se ejecutarán si las expresiones de prueba son True o False"
   ]
  },
  {
   "cell_type": "code",
   "execution_count": 16,
   "metadata": {},
   "outputs": [
    {
     "name": "stdout",
     "output_type": "stream",
     "text": [
      "en el cielo logra mostrarse una rayo de luz!!\n"
     ]
    }
   ],
   "source": [
    "asteroide = 19\n",
    "visible = int(input(\"¿es visible un rayo de luz en el cielo? si(1) o no(2):\"))\n",
    "if visible == 1:\n",
    "    print('La velocidad no es suficiente para mostrar un rayo de luz')\n",
    "else:\n",
    "    print('En el cielo logra mostrarse una rayo de luz!!')"
   ]
  },
  {
   "cell_type": "code",
   "execution_count": 27,
   "metadata": {},
   "outputs": [
    {
     "name": "stdout",
     "output_type": "stream",
     "text": [
      "el cometa se quemara en la atmosfera, dejara una estela de luz\n"
     ]
    }
   ],
   "source": [
    "area = int(input(\"indique el tamaño del asteroide: \"))\n",
    "velocidad= int(input(\"indique la velocidad del asteroide: \"))\n",
    "if area > 25 and area < 1000:\n",
    "    print(\"se causara gran daño en el planeta\")\n",
    "elif area <=25 and velocidad > 25:\n",
    "    print(\"el cometa se quemara en la atmosfera, ADVERTENCIA DE VELOCIDAD\")\n",
    "elif velocidad >= 20:\n",
    "    print(\"el cometa se quemara en la atmosfera, dejara una estela de luz\")\n",
    "else:\n",
    "    print(\"el cometa se quemara en la atmosfera\") "
   ]
  }
 ],
 "metadata": {
  "interpreter": {
   "hash": "70d8603dfbaebc9cdc6a62d1590dba04dec18b8cb28b2cb8f4e5aad9bda28700"
  },
  "kernelspec": {
   "display_name": "Python 3.10.2 64-bit",
   "language": "python",
   "name": "python3"
  },
  "language_info": {
   "codemirror_mode": {
    "name": "ipython",
    "version": 3
   },
   "file_extension": ".py",
   "mimetype": "text/x-python",
   "name": "python",
   "nbconvert_exporter": "python",
   "pygments_lexer": "ipython3",
   "version": "3.10.2"
  },
  "orig_nbformat": 4
 },
 "nbformat": 4,
 "nbformat_minor": 2
}
