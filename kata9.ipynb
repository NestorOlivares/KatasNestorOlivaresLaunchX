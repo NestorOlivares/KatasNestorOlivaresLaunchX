{
 "cells": [
  {
   "cell_type": "code",
   "execution_count": 1,
   "metadata": {},
   "outputs": [
    {
     "name": "stdout",
     "output_type": "stream",
     "text": [
      "infrmoe de combustible:\n",
      "    Total porciento: 78.33333333333333%\n",
      "    tanque 1: 80%\n",
      "    tanque 2: 70%\n",
      "    tanque 3: 85% \n",
      "    \n",
      "infrmoe de combustible:\n",
      "    Total porciento: 78.0%\n",
      "    tanque 1: 88%\n",
      "    tanque 2: 76%\n",
      "    tanque 3: 70% \n",
      "    \n"
     ]
    }
   ],
   "source": [
    "def informe(tanque1, tanque2, tanque3):\n",
    "    promedio = (tanque1 + tanque2 + tanque3) / 3\n",
    "    return f\"\"\"infrmoe de combustible:\n",
    "    Total porciento: {promedio}%\n",
    "    tanque 1: {tanque1}%\n",
    "    tanque 2: {tanque2}%\n",
    "    tanque 3: {tanque3}% \n",
    "    \"\"\"\n",
    "\n",
    "print(informe(80, 70, 85))\n",
    "def promedio(values):\n",
    "    total = sum(values)\n",
    "    tanques = len(values)\n",
    "    return total / tanques\n",
    "\n",
    "promedio([80, 85, 81]) \n",
    "def reporte(tanque1, tanque2, tanque3):\n",
    "    return f\"\"\"Fuel Report:\n",
    "    Total Average: {promedio([tanque1, tanque2, tanque3])}%\n",
    "    tanque1: {tanque1}%\n",
    "    tanque2: {tanque2}%\n",
    "    tanque3: {tanque3}% \n",
    "    \"\"\"\n",
    "\n",
    "print(informe(88, 76, 70))"
   ]
  },
  {
   "cell_type": "code",
   "execution_count": 3,
   "metadata": {},
   "outputs": [
    {
     "name": "stdout",
     "output_type": "stream",
     "text": [
      "\n",
      "    mision con destino a: Luna\n",
      "    timepo de vuelo: 65 minutos\n",
      "    combustible total: 500000 litros\n",
      "    \n",
      "\n",
      "    mision con destino a: Luna\n",
      "    tiempo de vuelo: 76 minutos\n",
      "    total de combustible: 500000\n",
      "    \n",
      "\n",
      "    mision con destino a: Luna\n",
      "    tiempo total de viaje: 74 minutos\n",
      "    total de combustible: 500000\n",
      "    tanque1 tanque = 300000 total de litrostanque2 tanque = 200000 total de litros\n"
     ]
    }
   ],
   "source": [
    "#misionreport reporte\n",
    "#pre launch - despegue\n",
    "#flight -vuelo\n",
    "#destination- destino\n",
    "#ext tank - tanque2\n",
    "#main tank- tanque1\n",
    "\n",
    "\n",
    "def reporte(despegue, vuelo, destino, tanque2, tanque1):\n",
    "    return f\"\"\"\n",
    "    mision con destino a: {destino}\n",
    "    timepo de vuelo: {despegue + vuelo} minutos\n",
    "    combustible total: {tanque2 + tanque1} litros\n",
    "    \"\"\"\n",
    "\n",
    "print(reporte(14, 51, \"Luna\", 200000, 300000))\n",
    "\n",
    "def reporte(destino, *minutos, **reserva_combutible):\n",
    "    return f\"\"\"\n",
    "    mision con destino a: {destino}\n",
    "    tiempo de vuelo: {sum(minutos)} minutos\n",
    "    total de combustible: {sum(reserva_combutible.values())}\n",
    "    \"\"\"\n",
    "\n",
    "print(reporte(\"Luna\", 10, 15, 51, main=300000, external=200000))\n",
    "\n",
    "def reporte(destino, *minutos, **reserva_combustible):\n",
    "    reportes = f\"\"\"\n",
    "    mision con destino a: {destino}\n",
    "    tiempo total de viaje: {sum(minutos)} minutos\n",
    "    total de combustible: {sum(reserva_combustible.values())}\n",
    "    \"\"\"\n",
    "    for tanque, litros in reserva_combustible.items():\n",
    "        reportes += f\"{tanque} tanque = {litros} total de litros\"\n",
    "    return reportes\n",
    "\n",
    "print(reporte(\"Luna\", 8, 11, 55, tanque1=300000, tanque2=200000))"
   ]
  }
 ],
 "metadata": {
  "interpreter": {
   "hash": "70d8603dfbaebc9cdc6a62d1590dba04dec18b8cb28b2cb8f4e5aad9bda28700"
  },
  "kernelspec": {
   "display_name": "Python 3.10.2 64-bit",
   "language": "python",
   "name": "python3"
  },
  "language_info": {
   "codemirror_mode": {
    "name": "ipython",
    "version": 3
   },
   "file_extension": ".py",
   "mimetype": "text/x-python",
   "name": "python",
   "nbconvert_exporter": "python",
   "pygments_lexer": "ipython3",
   "version": "3.10.2"
  },
  "orig_nbformat": 4
 },
 "nbformat": 4,
 "nbformat_minor": 2
}
