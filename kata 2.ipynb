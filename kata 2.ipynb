{
 "cells": [
  {
   "cell_type": "code",
   "execution_count": 3,
   "metadata": {},
   "outputs": [
    {
     "name": "stdout",
     "output_type": "stream",
     "text": [
      "Collecting virtualenv\n",
      "  Downloading virtualenv-20.13.1-py2.py3-none-any.whl (8.6 MB)\n",
      "Requirement already satisfied: platformdirs<3,>=2 in c:\\users\\nestor olivares\\appdata\\roaming\\python\\python310\\site-packages (from virtualenv) (2.5.0)\n",
      "Requirement already satisfied: six<2,>=1.9.0 in c:\\users\\nestor olivares\\appdata\\roaming\\python\\python310\\site-packages (from virtualenv) (1.16.0)\n",
      "Collecting filelock<4,>=3.2\n",
      "  Downloading filelock-3.4.2-py3-none-any.whl (9.9 kB)\n",
      "Collecting distlib<1,>=0.3.1\n",
      "  Downloading distlib-0.3.4-py2.py3-none-any.whl (461 kB)\n"
     ]
    },
    {
     "name": "stderr",
     "output_type": "stream",
     "text": [
      "WARNING: You are using pip version 21.2.4; however, version 22.0.3 is available.\n",
      "You should consider upgrading via the 'C:\\Users\\Nestor Olivares\\AppData\\Local\\Programs\\Python\\Python310\\python.exe -m pip install --upgrade pip' command.\n"
     ]
    },
    {
     "name": "stdout",
     "output_type": "stream",
     "text": [
      "Installing collected packages: filelock, distlib, virtualenv\n",
      "Successfully installed distlib-0.3.4 filelock-3.4.2 virtualenv-20.13.1\n"
     ]
    }
   ],
   "source": [
    "!pip install virtualenv"
   ]
  },
  {
   "cell_type": "code",
   "execution_count": 8,
   "metadata": {},
   "outputs": [
    {
     "name": "stdout",
     "output_type": "stream",
     "text": [
      "Requirement already satisfied: pip in c:\\users\\nestor olivares\\appdata\\local\\programs\\python\\python310\\lib\\site-packages (21.2.4)\n",
      "Collecting pip\n",
      "  Downloading pip-22.0.3-py3-none-any.whl (2.1 MB)\n",
      "Installing collected packages: pip\n",
      "  Attempting uninstall: pip\n",
      "    Found existing installation: pip 21.2.4\n",
      "    Uninstalling pip-21.2.4:\n",
      "      Successfully uninstalled pip-21.2.4\n",
      "Successfully installed pip-22.0.3\n",
      "Note: you may need to restart the kernel to use updated packages.\n"
     ]
    }
   ],
   "source": [
    "%pip install --upgrade pip"
   ]
  },
  {
   "cell_type": "code",
   "execution_count": 5,
   "metadata": {},
   "outputs": [
    {
     "name": "stderr",
     "output_type": "stream",
     "text": [
      "UsageError: Environment does not have key: \\bin\\activate\n"
     ]
    }
   ],
   "source": [
    "env\\bin\\acivate"
   ]
  },
  {
   "cell_type": "markdown",
   "metadata": {},
   "source": [
    "Requirement already satisfied: pandocfilters>=1.4.1 in c:\\users\\nestor olivares\\appdata\\local\\programs\n",
    "\\python\\python310\\lib\\site-packages (from nbconvert->notebook>=4.4.1->widgetsnbextension~=3.5.0->ipywi\n",
    "Requirement already satisfied: asttokens in c:\\users\\nestor olivares\\appdata\\roaming\\python\\python310\\\n",
    "site-packages (from stack-data->ipython>=4.0.0->ipywidgets) (2.0.5)\n",
    "WARNING: You are using pip version 21.2.4; however, version 22.0.3 is available.You should consider upgrading via the 'C:\\Users\\Nestor Olivares\\AppData\\Local\\Programs\\Python\\Python31\n",
    "0\\python.exe -m pip install --upgrade pip' command.\n",
    "PS C:\\Users\\Nestor Olivares>\n",
    "PS C:\\Users\\Nestor Olivares>\n",
    "PS C:\\Users\\Nestor Olivares> python --version\n",
    "Python 3.10.2\n",
    "PS C:\\Users\\Nestor Olivares> python -m venv env\n",
    "PS C:\\Users\\Nestor Olivares>\n",
    "PS C:\\Users\\Nestor Olivares> \n",
    "\n",
    " Contenido de la sesión restaurado desde 13/2/2022 en 19:28:37 \n",
    "\n",
    "Prueba la nueva tecnología PowerShell multiplataforma https://aka.ms/pscore6\n",
    "\n",
    "PS C:\\Users\\Nestor Olivares> python -m venv env\n",
    "source : El término 'source' no se reconoce como nombre de un cmdlet, función, archivo de script o    \n",
    "programa ejecutable. Compruebe si escribió correctamente el nombre o, si incluyó una ruta de acceso,  \n",
    "compruebe que dicha ruta es correcta e inténtelo de nuevo.\n",
    "En línea: 1 Carácter: 1\n",
    "+ source env/bin/activate\n",
    "+ ~~~~~~\n",
    "    + CategoryInfo          : ObjectNotFound: (source:String) [], CommandNotFoundException\n",
    "    + FullyQualifiedErrorId : CommandNotFoundException\n",
    "PS C:\\Users\\Nestor Olivares> env/bin/activate\n",
    "env/bin/activate : El término 'env/bin/activate' no se reconoce como nombre de un cmdlet, función,    \n",
    "archivo de script o programa ejecutable. Compruebe si escribió correctamente el nombre o, si incluyó  \n",
    "una ruta de acceso, compruebe que dicha ruta es correcta e inténtelo de nuevo.\n",
    "En línea: 1 Carácter: 1\n",
    "+ env/bin/activate\n",
    "+ ~~~~~~~~~~~~~~~~\n",
    "    + CategoryInfo          : ObjectNotFound: (env/bin/activate:String) [], CommandNotFoundException  \n",
    "    + FullyQualifiedErrorId : CommandNotFoundException\n",
    " \n",
    "PS C:\\Users\\Nestor Olivares> env\\bin\\activate\n",
    "env\\bin\\activate : El módulo 'env' no pudo cargarse. Para obtener más información, ejecute \n",
    "'Import-Module env'.\n",
    "En línea: 1 Carácter: 1\n",
    "+ env\\bin\\activate\n",
    "+ ~~~~~~~~~~~~~~~~\n",
    "    + CategoryInfo          : ObjectNotFound: (env\\bin\\activate:String) [], CommandNotFoundException  \n",
    "    + FullyQualifiedErrorId : CouldNotAutoLoadModule\n",
    " \n",
    "PS C:\\Users\\Nestor Olivares> env\\scripts\\activate\n",
    "env\\scripts\\activate : No se puede cargar el archivo C:\\Users\\Nestor \n",
    "Olivares\\env\\scripts\\Activate.ps1 porque la ejecución de scripts está deshabilitada en este sistema.  \n",
    "Para obtener más información, consulta el tema about_Execution_Policies en \n",
    "    + CategoryInfo          : SecurityError: (:) [], PSSecurityException\n",
    "    + FullyQualifiedErrorId : UnauthorizedAccess\n",
    "PS C:\\Users\\Nestor Olivares> env/scripts/activate\n",
    "env/scripts/activate : No se puede cargar el archivo C:\\Users\\Nestor \n",
    "Olivares\\env\\scripts\\Activate.ps1 porque la ejecución de scripts está deshabilitada en este sistema. \n",
    "Para obtener más información, consulta el tema about_Execution_Policies en \n",
    "En línea: 1 Carácter: 1\n",
    "+ env/scripts/activate\n",
    "+ ~~~~~~~~~~~~~~~~~~~~\n",
    "    + CategoryInfo          : SecurityError: (:) [], PSSecurityException\n",
    "    + FullyQualifiedErrorId : UnauthorizedAccess\n",
    "PS C:\\Users\\Nestor Olivares> env/bin/activate\n",
    "env/bin/activate : El término 'env/bin/activate' no se reconoce como nombre de un cmdlet, función, \n",
    "archivo de script o programa ejecutable. Compruebe si escribió correctamente el nombre o, si incluyó  \n",
    "una ruta de acceso, compruebe que dicha ruta es correcta e inténtelo de nuevo.\n",
    "+ env/bin/activate\n",
    " \n",
    "PS C:\\Users\\Nestor Olivares> python --version\n",
    "Python 3.10.2\n",
    "PS C:\\Users\\Nestor Olivares> cd documents\n",
    "PS C:\\Users\\Nestor Olivares\\documents> cd nestor\n",
    "PS C:\\Users\\Nestor Olivares\\documents\\nestor> cd launch x\n",
    "Set-Location : No se encuentra ningún parámetro de posición que acepte el argumento 'x'.\n",
    "En línea: 1 Carácter: 1\n",
    "+ ~~~~~~~~~~~\n",
    "    + CategoryInfo          : InvalidArgument: (:) [Set-Location], ParameterBindingException\n",
    "    + FullyQualifiedErrorId : PositionalParameterNotFound,Microsoft.PowerShell.Commands.SetLocationC  \n",
    "   ommand\n",
    " \n",
    "PS C:\\Users\\Nestor Olivares\\documents\\nestor> cd launch\n",
    "cd : No se encuentra la ruta de acceso 'C:\\Users\\Nestor Olivares\\documents\\nestor\\launch' porque no \n",
    "existe.\n",
    "En línea: 1 Carácter: 1\n",
    "+ ~~~~~~~~~\n",
    "    + CategoryInfo          : ObjectNotFound: (C:\\Users\\Nestor...s\\nestor\\launch:String) [Set-Locati  \n",
    "   on], ItemNotFoundException\n",
    "    + FullyQualifiedErrorId : PathNotFound,Microsoft.PowerShell.Commands.SetLocationCommand\n",
    " \n",
    "PS C:\\Users\\Nestor Olivares\\documents\\nestor> cd launchx\n",
    "cd : No se encuentra la ruta de acceso 'C:\\Users\\Nestor Olivares\\documents\\nestor\\launchx' porque no \n",
    "existe.\n",
    "En línea: 1 Carácter: 1\n",
    "+ cd launchx\n",
    "+ ~~~~~~~~~~\n",
    "    + CategoryInfo          : ObjectNotFound: (C:\\Users\\Nestor...\\nestor\\launchx:String) [Set-Locati  \n",
    "   on], ItemNotFoundException\n",
    "    + FullyQualifiedErrorId : PathNotFound,Microsoft.PowerShell.Commands.SetLocationCommand\n",
    " \n",
    "PS C:\\Users\\Nestor Olivares\\documents\\nestor>\n",
    "\n",
    " Contenido de la sesión restaurado desde 13/2/2022 en 20:53:48 \n",
    "\n",
    "\n",
    "PS C:\\Users\\Nestor Olivares> cd documents\n",
    "PS C:\\Users\\Nestor Olivares\\documents> cd nestor\n",
    "PS C:\\Users\\Nestor Olivares\\documents\\nestor\\launch_x\\env> scripts\\activate\n",
    "scripts\\activate : No se puede cargar el archivo C:\\Users\\Nestor \n",
    "Olivares\\documents\\nestor\\launch_x\\env\\scripts\\Activate.ps1 porque la ejecución de scripts está       \n",
    "deshabilitada en este sistema. Para obtener más información, consulta el tema \n",
    "about_Execution_Policies en https:/go.microsoft.com/fwlink/?LinkID=135170.\n",
    "En línea: 1 Carácter: 1\n",
    "+ scripts\\activate\n",
    "+ ~~~~~~~~~~~~~~~~\n",
    "    + CategoryInfo          : SecurityError: (:) [], PSSecurityException\n",
    "PS C:\\Users\\Nestor Olivares\\documents\\nestor\\launch_x\\env> scripts\\activate\n",
    "(env) PS C:\\Users\\Nestor Olivares\\documents\\nestor\\launch_x\\env> pip freeze\n",
    "(env) PS C:\\Users\\Nestor Olivares\\documents\\nestor\\launch_x\\env> !pip freeze\n",
    "!pip : El término '!pip' no se reconoce como nombre de un cmdlet, función, archivo de script o        \n",
    "programa ejecutable. Compruebe si escribió correctamente el nombre o, si incluyó una ruta de acceso,  \n",
    "compruebe que dicha ruta es correcta e inténtelo de nuevo.\n",
    "En línea: 1 Carácter: 1\n",
    "+ !pip freeze\n",
    "+ ~~~~\n",
    "    + FullyQualifiedErrorId : CommandNotFoundException\n",
    " \n",
    "Collecting python-dateutil\n",
    "  Using cached python_dateutil-2.8.2-py2.py3-none-any.whl (247 kB)\n",
    "Collecting six>=1.5\n",
    "  Using cached six-1.16.0-py2.py3-none-any.whl (11 kB)\n",
    "Installing collected packages: six, python-dateutil\n",
    "Successfully installed python-dateutil-2.8.2 six-1.16.0\n",
    "WARNING: You are using pip version 21.2.4; however, version 22.0.3 is available.\n",
    "You should consider upgrading via the 'C:\\Users\\Nestor Olivares\\documents\\nestor\\launch_x\\env\\Scripts\\python.exe -m pip install --upgrade pip' command.\n",
    "(env) PS C:\\Users\\Nestor Olivares\\documents\\nestor\\launch_x\\env> pip freeze\n",
    "python-dateutil==2.8.2\n",
    "six==1.16.0\n",
    "(env) PS C:\\Users\\Nestor Olivares\\documents\\nestor\\launch_x\\env> deactivate\n",
    "PS C:\\Users\\Nestor Olivares\\documents\\nestor\\launch_x\\env> "
   ]
  }
 ],
 "metadata": {
  "interpreter": {
   "hash": "669f5abd92f1a410df15b0643b9f42360e277a412fc08ae8bc7d7911cf7e8f3d"
  },
  "kernelspec": {
   "display_name": "Python 3.10.2 64-bit",
   "language": "python",
   "name": "python3"
  },
  "language_info": {
   "codemirror_mode": {
    "name": "ipython",
    "version": 3
   },
   "file_extension": ".py",
   "mimetype": "text/x-python",
   "name": "python",
   "nbconvert_exporter": "python",
   "pygments_lexer": "ipython3",
   "version": "3.10.2"
  },
  "orig_nbformat": 4
 },
 "nbformat": 4,
 "nbformat_minor": 2
}
